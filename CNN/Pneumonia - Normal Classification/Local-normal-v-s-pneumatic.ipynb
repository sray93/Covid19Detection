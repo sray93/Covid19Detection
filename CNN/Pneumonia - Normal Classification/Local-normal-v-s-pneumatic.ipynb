{
 "cells": [
  {
   "cell_type": "markdown",
   "metadata": {
    "papermill": {
     "duration": 0.014558,
     "end_time": "2020-11-14T21:48:59.003933",
     "exception": false,
     "start_time": "2020-11-14T21:48:58.989375",
     "status": "completed"
    },
    "tags": []
   },
   "source": [
    "# Note: No Train-test Split, Just Train validation Split. In this training model, we are not concerned with testing the performance of the model, Just ensuring that the model has learned enough to discriminate between Normal V/s Pneumatic classifications to adapt and transfer learn with an additional class [COVID in our case]"
   ]
  },
  {
   "cell_type": "markdown",
   "metadata": {
    "papermill": {
     "duration": 0.011845,
     "end_time": "2020-11-14T21:48:59.027888",
     "exception": false,
     "start_time": "2020-11-14T21:48:59.016043",
     "status": "completed"
    },
    "tags": []
   },
   "source": [
    "https://stackoverflow.com/questions/42443936/keras-split-train-test-set-when-using-imagedatagenerator"
   ]
  },
  {
   "cell_type": "code",
   "execution_count": 2,
   "metadata": {
    "_cell_guid": "79c7e3d0-c299-4dcb-8224-4455121ee9b0",
    "_uuid": "d629ff2d2480ee46fbb7e2d37f6b5fab8052498a",
    "execution": {
     "iopub.execute_input": "2020-11-14T21:48:59.059629Z",
     "iopub.status.busy": "2020-11-14T21:48:59.059018Z",
     "iopub.status.idle": "2020-11-14T21:49:04.742939Z",
     "shell.execute_reply": "2020-11-14T21:49:04.743488Z"
    },
    "papermill": {
     "duration": 5.703921,
     "end_time": "2020-11-14T21:49:04.743654",
     "exception": false,
     "start_time": "2020-11-14T21:48:59.039733",
     "status": "completed"
    },
    "tags": []
   },
   "outputs": [
    {
     "ename": "ModuleNotFoundError",
     "evalue": "No module named 'tensorflow'",
     "output_type": "error",
     "traceback": [
      "\u001b[0;31m---------------------------------------------------------------------------\u001b[0m",
      "\u001b[0;31mModuleNotFoundError\u001b[0m                       Traceback (most recent call last)",
      "\u001b[0;32m<ipython-input-2-847a76fc78eb>\u001b[0m in \u001b[0;36m<module>\u001b[0;34m\u001b[0m\n\u001b[1;32m     12\u001b[0m \u001b[0;34m\u001b[0m\u001b[0m\n\u001b[1;32m     13\u001b[0m \u001b[0;31m#Tensorflow and Keras for models and other DL tasks\u001b[0m\u001b[0;34m\u001b[0m\u001b[0;34m\u001b[0m\u001b[0;34m\u001b[0m\u001b[0m\n\u001b[0;32m---> 14\u001b[0;31m \u001b[0;32mimport\u001b[0m \u001b[0mtensorflow\u001b[0m \u001b[0;32mas\u001b[0m \u001b[0mtf\u001b[0m\u001b[0;34m\u001b[0m\u001b[0;34m\u001b[0m\u001b[0m\n\u001b[0m",
      "\u001b[0;31mModuleNotFoundError\u001b[0m: No module named 'tensorflow'"
     ]
    }
   ],
   "source": [
    "import numpy as np\n",
    "import pandas as pd\n",
    "\n",
    "import matplotlib.pyplot as plt\n",
    "%matplotlib inline \n",
    "\n",
    "from sklearn.metrics import *\n",
    "\n",
    "#To see our directory\n",
    "import os\n",
    "import random\n",
    "\n",
    "#Tensorflow and Keras for models and other DL tasks\n",
    "import tensorflow as tf"
   ]
  },
  {
   "cell_type": "code",
   "execution_count": 3,
   "metadata": {
    "execution": {
     "iopub.execute_input": "2020-11-14T21:49:04.784880Z",
     "iopub.status.busy": "2020-11-14T21:49:04.784021Z",
     "iopub.status.idle": "2020-11-14T21:49:05.632488Z",
     "shell.execute_reply": "2020-11-14T21:49:05.631821Z"
    },
    "papermill": {
     "duration": 0.870879,
     "end_time": "2020-11-14T21:49:05.632628",
     "exception": false,
     "start_time": "2020-11-14T21:49:04.761749",
     "status": "completed"
    },
    "tags": []
   },
   "outputs": [],
   "source": [
    "!mkdir /tmp/Xray_train_data"
   ]
  },
  {
   "cell_type": "code",
   "execution_count": 6,
   "metadata": {
    "execution": {
     "iopub.execute_input": "2020-11-14T21:49:05.675774Z",
     "iopub.status.busy": "2020-11-14T21:49:05.675038Z",
     "iopub.status.idle": "2020-11-14T21:49:09.586819Z",
     "shell.execute_reply": "2020-11-14T21:49:09.586191Z"
    },
    "papermill": {
     "duration": 3.937745,
     "end_time": "2020-11-14T21:49:09.586947",
     "exception": false,
     "start_time": "2020-11-14T21:49:05.649202",
     "status": "completed"
    },
    "tags": []
   },
   "outputs": [],
   "source": [
    "!cp -R \"COVID-19 Radiography Database/Viral Pneumonia\" \"/tmp/Xray_train_data/Viral Pneumonia\""
   ]
  },
  {
   "cell_type": "code",
   "execution_count": 7,
   "metadata": {
    "execution": {
     "iopub.execute_input": "2020-11-14T21:49:09.622568Z",
     "iopub.status.busy": "2020-11-14T21:49:09.617785Z",
     "iopub.status.idle": "2020-11-14T21:49:13.781170Z",
     "shell.execute_reply": "2020-11-14T21:49:13.781634Z"
    },
    "papermill": {
     "duration": 4.181498,
     "end_time": "2020-11-14T21:49:13.781809",
     "exception": false,
     "start_time": "2020-11-14T21:49:09.600311",
     "status": "completed"
    },
    "tags": []
   },
   "outputs": [],
   "source": [
    "!cp -R \"COVID-19 Radiography Database/NORMAL\" \"/tmp/Xray_train_data\""
   ]
  },
  {
   "cell_type": "code",
   "execution_count": 8,
   "metadata": {
    "execution": {
     "iopub.execute_input": "2020-11-14T21:49:13.812814Z",
     "iopub.status.busy": "2020-11-14T21:49:13.812021Z",
     "iopub.status.idle": "2020-11-14T21:49:14.463511Z",
     "shell.execute_reply": "2020-11-14T21:49:14.463011Z"
    },
    "papermill": {
     "duration": 0.668797,
     "end_time": "2020-11-14T21:49:14.463617",
     "exception": false,
     "start_time": "2020-11-14T21:49:13.794820",
     "status": "completed"
    },
    "tags": []
   },
   "outputs": [
    {
     "name": "stdout",
     "output_type": "stream",
     "text": [
      "\u001b[34mNORMAL\u001b[m\u001b[m          \u001b[34mViral Pneumonia\u001b[m\u001b[m\r\n"
     ]
    }
   ],
   "source": [
    "!ls \"/tmp/Xray_train_data/\""
   ]
  },
  {
   "cell_type": "code",
   "execution_count": 9,
   "metadata": {
    "execution": {
     "iopub.execute_input": "2020-11-14T21:49:14.500378Z",
     "iopub.status.busy": "2020-11-14T21:49:14.495041Z",
     "iopub.status.idle": "2020-11-14T21:49:15.138228Z",
     "shell.execute_reply": "2020-11-14T21:49:15.137729Z"
    },
    "papermill": {
     "duration": 0.660823,
     "end_time": "2020-11-14T21:49:15.138331",
     "exception": false,
     "start_time": "2020-11-14T21:49:14.477508",
     "status": "completed"
    },
    "tags": []
   },
   "outputs": [
    {
     "name": "stdout",
     "output_type": "stream",
     "text": [
      "    1341\r\n"
     ]
    }
   ],
   "source": [
    "!ls -1 \"/tmp/Xray_train_data/NORMAL\"| wc -l "
   ]
  },
  {
   "cell_type": "code",
   "execution_count": 10,
   "metadata": {
    "execution": {
     "iopub.execute_input": "2020-11-14T21:49:15.175774Z",
     "iopub.status.busy": "2020-11-14T21:49:15.174894Z",
     "iopub.status.idle": "2020-11-14T21:49:16.246350Z",
     "shell.execute_reply": "2020-11-14T21:49:16.244902Z"
    },
    "papermill": {
     "duration": 1.093274,
     "end_time": "2020-11-14T21:49:16.247117",
     "exception": false,
     "start_time": "2020-11-14T21:49:15.153843",
     "status": "completed"
    },
    "tags": []
   },
   "outputs": [
    {
     "name": "stdout",
     "output_type": "stream",
     "text": [
      "    1345\r\n"
     ]
    }
   ],
   "source": [
    "!ls -1 \"/tmp/Xray_train_data/Viral Pneumonia\"| wc -l "
   ]
  },
  {
   "cell_type": "code",
   "execution_count": 8,
   "metadata": {
    "execution": {
     "iopub.execute_input": "2020-11-14T21:49:16.340772Z",
     "iopub.status.busy": "2020-11-14T21:49:16.339931Z",
     "iopub.status.idle": "2020-11-14T21:49:16.401571Z",
     "shell.execute_reply": "2020-11-14T21:49:16.400840Z"
    },
    "papermill": {
     "duration": 0.105414,
     "end_time": "2020-11-14T21:49:16.401729",
     "exception": false,
     "start_time": "2020-11-14T21:49:16.296315",
     "status": "completed"
    },
    "tags": []
   },
   "outputs": [],
   "source": [
    "from keras.preprocessing.image import ImageDataGenerator\n",
    "from keras.layers.normalization import BatchNormalization\n",
    "from keras.optimizers import Adam\n",
    "import keras"
   ]
  },
  {
   "cell_type": "code",
   "execution_count": 9,
   "metadata": {
    "execution": {
     "iopub.execute_input": "2020-11-14T21:49:16.534095Z",
     "iopub.status.busy": "2020-11-14T21:49:16.533272Z",
     "iopub.status.idle": "2020-11-14T21:49:16.540957Z",
     "shell.execute_reply": "2020-11-14T21:49:16.541778Z"
    },
    "papermill": {
     "duration": 0.065911,
     "end_time": "2020-11-14T21:49:16.541942",
     "exception": false,
     "start_time": "2020-11-14T21:49:16.476031",
     "status": "completed"
    },
    "tags": []
   },
   "outputs": [],
   "source": [
    "train_data_dir= \"/tmp/Xray_train_data\""
   ]
  },
  {
   "cell_type": "code",
   "execution_count": 10,
   "metadata": {
    "execution": {
     "iopub.execute_input": "2020-11-14T21:49:16.683264Z",
     "iopub.status.busy": "2020-11-14T21:49:16.682511Z",
     "iopub.status.idle": "2020-11-14T21:49:16.688653Z",
     "shell.execute_reply": "2020-11-14T21:49:16.694617Z"
    },
    "papermill": {
     "duration": 0.088176,
     "end_time": "2020-11-14T21:49:16.695154",
     "exception": false,
     "start_time": "2020-11-14T21:49:16.606978",
     "status": "completed"
    },
    "tags": []
   },
   "outputs": [],
   "source": [
    "def data_generator(img_height = 1024, img_width=1024, split = 0.3):\n",
    "\n",
    "    train_datagen = ImageDataGenerator(validation_split=split, horizontal_flip=True, rescale=1./255, featurewise_center=True,\n",
    "                     featurewise_std_normalization=True)\n",
    "\n",
    "    train_generator = train_datagen.flow_from_directory(\n",
    "        train_data_dir,\n",
    "        target_size=(img_height, img_width),\n",
    "        class_mode='categorical',\n",
    "        subset='training')\n",
    "    validation_generator = train_datagen.flow_from_directory(\n",
    "        train_data_dir,\n",
    "        target_size=(img_height, img_width),\n",
    "        class_mode='categorical',\n",
    "        subset='validation')\n",
    "    \n",
    "    return train_generator, validation_generator"
   ]
  },
  {
   "cell_type": "code",
   "execution_count": 11,
   "metadata": {
    "execution": {
     "iopub.execute_input": "2020-11-14T21:49:16.748865Z",
     "iopub.status.busy": "2020-11-14T21:49:16.748157Z",
     "iopub.status.idle": "2020-11-14T21:49:16.757481Z",
     "shell.execute_reply": "2020-11-14T21:49:16.758411Z"
    },
    "papermill": {
     "duration": 0.041544,
     "end_time": "2020-11-14T21:49:16.758558",
     "exception": false,
     "start_time": "2020-11-14T21:49:16.717014",
     "status": "completed"
    },
    "tags": []
   },
   "outputs": [],
   "source": [
    "def get_Sequential_Model(img_height = 1024, img_width=1024):\n",
    "    model=keras.Sequential()\n",
    "    model.add(keras.layers.Conv2D(16, (3,3), activation='relu', input_shape=(img_height, img_width, 3), padding='same'))\n",
    "    model.add(keras.layers.MaxPooling2D(pool_size=(2, 2), strides=None, padding=\"valid\"))\n",
    "    model.add(keras.layers.Conv2D(8, (3,3), activation='relu', padding='same'))\n",
    "    model.add(keras.layers.MaxPooling2D(pool_size=(2, 2), strides=None, padding=\"valid\"))\n",
    "    model.add(keras.layers.Flatten())\n",
    "    model.add(keras.layers.Dense(256))\n",
    "    model.add(BatchNormalization())\n",
    "    model.add(keras.layers.Dropout(.5, input_shape=(32,)))\n",
    "    model.add(keras.layers.Dense(128))\n",
    "    model.add(BatchNormalization())\n",
    "    model.add(keras.layers.Dropout(.3, input_shape=(32,)))\n",
    "    model.add(keras.layers.Dense(64))\n",
    "    model.add(BatchNormalization())\n",
    "    model.add(keras.layers.Dropout(.1, input_shape=(32,)))\n",
    "    model.add(keras.layers.Dense(2, activation='sigmoid'))\n",
    "    return model"
   ]
  },
  {
   "cell_type": "code",
   "execution_count": 12,
   "metadata": {
    "execution": {
     "iopub.execute_input": "2020-11-14T21:49:16.813648Z",
     "iopub.status.busy": "2020-11-14T21:49:16.812907Z",
     "iopub.status.idle": "2020-11-14T22:05:29.513608Z",
     "shell.execute_reply": "2020-11-14T22:05:29.514177Z"
    },
    "papermill": {
     "duration": 972.736622,
     "end_time": "2020-11-14T22:05:29.514337",
     "exception": false,
     "start_time": "2020-11-14T21:49:16.777715",
     "status": "completed"
    },
    "scrolled": true,
    "tags": []
   },
   "outputs": [
    {
     "name": "stdout",
     "output_type": "stream",
     "text": [
      "Found 1881 images belonging to 2 classes.\n",
      "Found 805 images belonging to 2 classes.\n"
     ]
    },
    {
     "name": "stderr",
     "output_type": "stream",
     "text": [
      "/opt/conda/lib/python3.7/site-packages/keras_preprocessing/image/image_data_generator.py:720: UserWarning: This ImageDataGenerator specifies `featurewise_center`, but it hasn't been fit on any training data. Fit it first by calling `.fit(numpy_data)`.\n",
      "  warnings.warn('This ImageDataGenerator specifies '\n",
      "/opt/conda/lib/python3.7/site-packages/keras_preprocessing/image/image_data_generator.py:728: UserWarning: This ImageDataGenerator specifies `featurewise_std_normalization`, but it hasn't been fit on any training data. Fit it first by calling `.fit(numpy_data)`.\n",
      "  warnings.warn('This ImageDataGenerator specifies '\n"
     ]
    },
    {
     "name": "stdout",
     "output_type": "stream",
     "text": [
      "Epoch 1/20\n",
      "59/59 - 48s - loss: 0.2567 - accuracy: 0.8969 - val_loss: 0.3166 - val_accuracy: 0.9019\n",
      "Epoch 2/20\n",
      "59/59 - 48s - loss: 0.1383 - accuracy: 0.9484 - val_loss: 1.1940 - val_accuracy: 0.5193\n",
      "Epoch 3/20\n",
      "59/59 - 48s - loss: 0.1078 - accuracy: 0.9612 - val_loss: 2.2035 - val_accuracy: 0.5217\n",
      "Epoch 4/20\n",
      "59/59 - 48s - loss: 0.0792 - accuracy: 0.9724 - val_loss: 1.1865 - val_accuracy: 0.6435\n",
      "Epoch 5/20\n",
      "59/59 - 47s - loss: 0.0729 - accuracy: 0.9718 - val_loss: 0.3348 - val_accuracy: 0.8783\n",
      "Epoch 6/20\n",
      "59/59 - 48s - loss: 0.0460 - accuracy: 0.9835 - val_loss: 0.1304 - val_accuracy: 0.9478\n",
      "Epoch 7/20\n",
      "59/59 - 47s - loss: 0.0376 - accuracy: 0.9888 - val_loss: 0.2065 - val_accuracy: 0.9391\n",
      "Epoch 8/20\n",
      "59/59 - 47s - loss: 0.0452 - accuracy: 0.9835 - val_loss: 0.9682 - val_accuracy: 0.6820\n",
      "Epoch 9/20\n",
      "59/59 - 48s - loss: 0.0388 - accuracy: 0.9883 - val_loss: 2.7719 - val_accuracy: 0.5627\n",
      "Epoch 10/20\n",
      "59/59 - 47s - loss: 0.0223 - accuracy: 0.9931 - val_loss: 0.1256 - val_accuracy: 0.9478\n",
      "Epoch 11/20\n",
      "59/59 - 48s - loss: 0.0286 - accuracy: 0.9878 - val_loss: 0.1962 - val_accuracy: 0.9354\n",
      "Epoch 12/20\n",
      "59/59 - 47s - loss: 0.0379 - accuracy: 0.9888 - val_loss: 0.1908 - val_accuracy: 0.9342\n",
      "Epoch 13/20\n",
      "59/59 - 48s - loss: 0.0152 - accuracy: 0.9947 - val_loss: 0.9441 - val_accuracy: 0.7975\n",
      "Epoch 14/20\n",
      "59/59 - 48s - loss: 0.0339 - accuracy: 0.9878 - val_loss: 0.2414 - val_accuracy: 0.9466\n",
      "Epoch 15/20\n",
      "59/59 - 48s - loss: 0.0339 - accuracy: 0.9862 - val_loss: 0.3705 - val_accuracy: 0.9081\n",
      "Epoch 16/20\n",
      "59/59 - 47s - loss: 0.0498 - accuracy: 0.9835 - val_loss: 0.3604 - val_accuracy: 0.9056\n",
      "Epoch 17/20\n",
      "59/59 - 48s - loss: 0.0311 - accuracy: 0.9883 - val_loss: 1.1491 - val_accuracy: 0.7540\n",
      "Epoch 18/20\n",
      "59/59 - 47s - loss: 0.0117 - accuracy: 0.9957 - val_loss: 0.1278 - val_accuracy: 0.9627\n",
      "Epoch 19/20\n",
      "59/59 - 48s - loss: 0.0106 - accuracy: 0.9968 - val_loss: 0.3798 - val_accuracy: 0.9006\n",
      "Epoch 20/20\n",
      "59/59 - 47s - loss: 0.0099 - accuracy: 0.9984 - val_loss: 0.1446 - val_accuracy: 0.9478\n",
      "Model saved.\n"
     ]
    }
   ],
   "source": [
    "try:\n",
    "    model = load_model('PneumoniaVNormal.h5')\n",
    "    print('Model Loaded')\n",
    "except:\n",
    "    model = get_Sequential_Model(img_height = 224, img_width=224)\n",
    "    model.compile(optimizer=Adam(), loss='categorical_crossentropy', metrics = 'accuracy')\n",
    "\n",
    "    train_generator, validation_generator = data_generator(img_height = 224, img_width=224)\n",
    "\n",
    "    trainer = model.fit(train_generator,validation_data=validation_generator,epochs=20,verbose=2)\n",
    "\n",
    "    model.save('PneumoniaVNormal.h5')\n",
    "\n",
    "    print('Model saved.')"
   ]
  },
  {
   "cell_type": "markdown",
   "metadata": {
    "papermill": {
     "duration": 0.029411,
     "end_time": "2020-11-14T22:05:29.681843",
     "exception": false,
     "start_time": "2020-11-14T22:05:29.652432",
     "status": "completed"
    },
    "tags": []
   },
   "source": [
    "Reason for using categorical mode for datagen and using 2 neurons in final dense layer:\n",
    "https://datascience.stackexchange.com/questions/45833/keras-model-only-predicts-one-class-for-all-the-test-images\n",
    "\n",
    "(Creates Problem with binary mode, due to the fact output layer will only give one probability, and the predictor which will take class based on max, while doing it manually, will always attribute things to class 0, Hence, the problem)"
   ]
  },
  {
   "cell_type": "code",
   "execution_count": 14,
   "metadata": {
    "execution": {
     "iopub.execute_input": "2020-11-14T22:05:29.749782Z",
     "iopub.status.busy": "2020-11-14T22:05:29.748404Z",
     "iopub.status.idle": "2020-11-14T22:05:58.785251Z",
     "shell.execute_reply": "2020-11-14T22:05:58.786019Z"
    },
    "papermill": {
     "duration": 29.0744,
     "end_time": "2020-11-14T22:05:58.786210",
     "exception": false,
     "start_time": "2020-11-14T22:05:29.711810",
     "status": "completed"
    },
    "tags": []
   },
   "outputs": [
    {
     "name": "stdout",
     "output_type": "stream",
     "text": [
      "Testing:\n",
      "\n",
      "\n",
      "                 precision    recall  f1-score   support\n",
      "\n",
      "         NORMAL    0.48916   0.50498   0.49694       402\n",
      "Viral Pneumonia    0.48974   0.47395   0.48172       403\n",
      "\n",
      "       accuracy                        0.48944       805\n",
      "      macro avg    0.48945   0.48946   0.48933       805\n",
      "   weighted avg    0.48945   0.48944   0.48932       805\n",
      "\n"
     ]
    }
   ],
   "source": [
    "print('Testing:')\n",
    "\n",
    "model.evaluate_generator(validation_generator)\n",
    "validation_generator.reset()\n",
    "predIdx = model.predict_generator(validation_generator, len(validation_generator))\n",
    "predIdxs = np.argmax(predIdx, axis=1) \n",
    "validation_labels = validation_generator.classes\n",
    "\n",
    "target_names = ['NORMAL', 'Viral Pneumonia']\n",
    "print('\\n')\n",
    "print(classification_report(validation_labels, predIdxs, target_names=target_names, digits=5))"
   ]
  },
  {
   "cell_type": "code",
   "execution_count": 15,
   "metadata": {
    "execution": {
     "iopub.execute_input": "2020-11-14T22:05:58.861294Z",
     "iopub.status.busy": "2020-11-14T22:05:58.859945Z",
     "iopub.status.idle": "2020-11-14T22:07:06.551803Z",
     "shell.execute_reply": "2020-11-14T22:07:06.552534Z"
    },
    "papermill": {
     "duration": 67.729562,
     "end_time": "2020-11-14T22:07:06.552750",
     "exception": false,
     "start_time": "2020-11-14T22:05:58.823188",
     "status": "completed"
    },
    "tags": []
   },
   "outputs": [
    {
     "name": "stdout",
     "output_type": "stream",
     "text": [
      "Train Data metrics:\n",
      "\n",
      "\n",
      "                 precision    recall  f1-score   support\n",
      "\n",
      "         NORMAL    0.50053   0.50053   0.50053       939\n",
      "Viral Pneumonia    0.50212   0.50212   0.50212       942\n",
      "\n",
      "       accuracy                        0.50133      1881\n",
      "      macro avg    0.50133   0.50133   0.50133      1881\n",
      "   weighted avg    0.50133   0.50133   0.50133      1881\n",
      "\n"
     ]
    }
   ],
   "source": [
    "print('Train Data metrics:')\n",
    "    \n",
    "model.evaluate_generator(train_generator)\n",
    "\n",
    "train_generator.reset()\n",
    "predIdxs = model.predict_generator(train_generator, len(train_generator))\n",
    "predIdxs = np.argmax(predIdxs, axis=1) \n",
    "labels = train_generator.classes\n",
    "\n",
    "target_names = ['NORMAL', 'Viral Pneumonia']\n",
    "print('\\n')\n",
    "print(classification_report(labels, predIdxs, target_names=target_names, digits=5))"
   ]
  },
  {
   "cell_type": "code",
   "execution_count": null,
   "metadata": {
    "papermill": {
     "duration": 0.030652,
     "end_time": "2020-11-14T22:07:06.614935",
     "exception": false,
     "start_time": "2020-11-14T22:07:06.584283",
     "status": "completed"
    },
    "tags": []
   },
   "outputs": [],
   "source": []
  }
 ],
 "metadata": {
  "kernelspec": {
   "display_name": "Python 3",
   "language": "python",
   "name": "python3"
  },
  "language_info": {
   "codemirror_mode": {
    "name": "ipython",
    "version": 3
   },
   "file_extension": ".py",
   "mimetype": "text/x-python",
   "name": "python",
   "nbconvert_exporter": "python",
   "pygments_lexer": "ipython3",
   "version": "3.8.3"
  },
  "papermill": {
   "duration": 1093.054326,
   "end_time": "2020-11-14T22:07:08.057381",
   "environment_variables": {},
   "exception": null,
   "input_path": "__notebook__.ipynb",
   "output_path": "__notebook__.ipynb",
   "parameters": {},
   "start_time": "2020-11-14T21:48:55.003055",
   "version": "2.1.0"
  }
 },
 "nbformat": 4,
 "nbformat_minor": 4
}
